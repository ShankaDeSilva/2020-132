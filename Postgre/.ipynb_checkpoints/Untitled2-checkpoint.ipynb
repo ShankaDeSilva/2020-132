{
 "cells": [
  {
   "cell_type": "code",
   "execution_count": null,
   "metadata": {},
   "outputs": [
    {
     "name": "stdout",
     "output_type": "stream",
     "text": [
      "Start Listening...\n"
     ]
    }
   ],
   "source": [
    "import socket\n",
    "#import threading\n",
    "\n",
    "host, port = \"127.0.0.1\", 1234\n",
    "client = socket.socket(socket.AF_INET, socket.SOCK_STREAM)\n",
    "\n",
    "\n",
    "def recv(): \n",
    "    try:\n",
    "        client.bind((host, port))\n",
    "    finally:\n",
    "        pass\n",
    "    client.listen(10) # how many connections can it receive at one time\n",
    "    print (\"Start Listening...\")\n",
    "    \n",
    "    while True:\n",
    "        conn, addr = client.accept()\n",
    "        print (\"client with address: \", addr, \" is connected.\")\n",
    "        data = conn.recv(1024)\n",
    "        print (\"Recieved this data: <\", data, \"> from the client.\")\n",
    "        \n",
    "        if data == \"Correct\":\n",
    "            reply = \"Success\"\n",
    "            conn.send(reply.encode(\"utf-8\"))\n",
    "            conn.close()\n",
    "            print (\"-----------------------------\")\n",
    "        elif data == \"Disconnect\":\n",
    "            reply = \"Disconnected and the listen has Stopped\"\n",
    "            conn.send(reply.encode(\"utf-8\"))\n",
    "            conn.close()\n",
    "            break\n",
    "        else:\n",
    "            reply = \"Failed\"\n",
    "            conn.send(reply.encode(\"utf-8\"))\n",
    "            conn.close()\n",
    "            print (\"-----------------------------\")\n",
    "            \n",
    "    client.close()\n",
    "\"\"\"\n",
    "You can use thread for the recieve operation so that the execution in main thread\n",
    "isn't wait until complete the recieve operation. \n",
    "\"\"\"\n",
    "#thread = threading.Thread(target = recvFromAndroid, args = ())\n",
    "#thread.start()\n",
    "recv()\n",
    "#print \"completed\""
   ]
  },
  {
   "cell_type": "code",
   "execution_count": null,
   "metadata": {},
   "outputs": [],
   "source": []
  },
  {
   "cell_type": "code",
   "execution_count": null,
   "metadata": {},
   "outputs": [],
   "source": []
  }
 ],
 "metadata": {
  "kernelspec": {
   "display_name": "Python 3",
   "language": "python",
   "name": "python3"
  }
 },
 "nbformat": 4,
 "nbformat_minor": 2
}
