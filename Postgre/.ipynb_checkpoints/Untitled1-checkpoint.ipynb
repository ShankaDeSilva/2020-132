{
 "cells": [
  {
   "cell_type": "code",
   "execution_count": 2,
   "metadata": {},
   "outputs": [
    {
     "name": "stdout",
     "output_type": "stream",
     "text": [
      " * Serving Flask app \"__main__\" (lazy loading)\n",
      " * Environment: production\n",
      "   WARNING: This is a development server. Do not use it in a production deployment.\n",
      "   Use a production WSGI server instead.\n",
      " * Debug mode: off\n"
     ]
    },
    {
     "name": "stderr",
     "output_type": "stream",
     "text": [
      " * Running on http://0.0.0.0:5000/ (Press CTRL+C to quit)\n"
     ]
    }
   ],
   "source": [
    "from flask import Flask, request, jsonify\n",
    "\n",
    "app = Flask(__name__)\n",
    "\n",
    "# root\n",
    "@app.route(\"/\")\n",
    "def index():\n",
    "    \"\"\"\n",
    "    this is a root dir of my server\n",
    "    :return: str\n",
    "    \"\"\"\n",
    "    return \"This is root!!!!\"\n",
    "\n",
    "# GET\n",
    "@app.route('/users/<user>')\n",
    "def hello_user(user):\n",
    "    \"\"\"\n",
    "    this serves as a demo purpose\n",
    "    :param user:\n",
    "    :return: str\n",
    "    \"\"\"\n",
    "    return \"Hello %s!\" % user\n",
    "\n",
    "# POST\n",
    "@app.route('/api/post_some_data', methods=['POST'])\n",
    "def get_text_prediction():\n",
    "    \"\"\"\n",
    "    predicts requested text whether it is ham or spam\n",
    "    :return: json\n",
    "    \"\"\"\n",
    "    json = request.get_json()\n",
    "    print(json)\n",
    "    if len(json['text']) == 0:\n",
    "        return jsonify({'error': 'invalid input'})\n",
    "\n",
    "    return jsonify({'you sent this': json['text']})\n",
    "    \n",
    "# running web app in local machine\n",
    "if __name__ == '__main__':\n",
    "    app.run(host='0.0.0.0', port=5000)"
   ]
  },
  {
   "cell_type": "code",
   "execution_count": null,
   "metadata": {},
   "outputs": [
    {
     "name": "stdout",
     "output_type": "stream",
     "text": [
      " * Serving Flask app \"__main__\" (lazy loading)\n",
      " * Environment: production\n",
      "   WARNING: This is a development server. Do not use it in a production deployment.\n",
      "   Use a production WSGI server instead.\n",
      " * Debug mode: off\n"
     ]
    },
    {
     "name": "stderr",
     "output_type": "stream",
     "text": [
      " * Running on http://127.0.0.1:5000/ (Press CTRL+C to quit)\n"
     ]
    }
   ],
   "source": [
    "if __name__ == '__main__':\n",
    "    app.run()\n",
    "    \n",
    "## server on http://127.0.0.1:5000/\n",
    "## (invisible across the network) won't work on other device, other than development machine\n",
    "\n",
    "# suggested way\n",
    "if __name__ == '__main__':\n",
    "    app.run(host='0.0.0.0', port=5000)\n",
    "    \n",
    "## server on http://0.0.0.0:5000/\n",
    "## visible across the network\n",
    "## BaseUrl for Android http://<your ip address>:5000/blah/blah\n",
    "\n",
    "# hackiest way (not preferred)\n",
    "if __name__ == '__main__':\n",
    "    app.run(host='<your ip address>')\n",
    "    \n",
    "## server on http://<your ip address>:5000/\n",
    "## visible across the network\n",
    "## BaseUrl for Android http://<your ip address>:5000/blah/blah\n",
    "## whereas port=5000"
   ]
  },
  {
   "cell_type": "code",
   "execution_count": null,
   "metadata": {},
   "outputs": [],
   "source": []
  }
 ],
 "metadata": {
  "kernelspec": {
   "display_name": "Python 3",
   "language": "python",
   "name": "python3"
  },
  "language_info": {
   "codemirror_mode": {
    "name": "ipython",
    "version": 3
   },
   "file_extension": ".py",
   "mimetype": "text/x-python",
   "name": "python",
   "nbconvert_exporter": "python",
   "pygments_lexer": "ipython3",
   "version": "3.7.3"
  }
 },
 "nbformat": 4,
 "nbformat_minor": 2
}
