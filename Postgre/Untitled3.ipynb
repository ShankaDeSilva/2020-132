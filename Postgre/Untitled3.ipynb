{
 "cells": [
  {
   "cell_type": "code",
   "execution_count": 5,
   "metadata": {},
   "outputs": [
    {
     "ename": "SyntaxError",
     "evalue": "invalid syntax (<ipython-input-5-12d0b21eb989>, line 23)",
     "output_type": "error",
     "traceback": [
      "\u001b[1;36m  File \u001b[1;32m\"<ipython-input-5-12d0b21eb989>\"\u001b[1;36m, line \u001b[1;32m23\u001b[0m\n\u001b[1;33m    except (Exception, psycopg2.Error) as error :\u001b[0m\n\u001b[1;37m         ^\u001b[0m\n\u001b[1;31mSyntaxError\u001b[0m\u001b[1;31m:\u001b[0m invalid syntax\n"
     ]
    }
   ],
   "source": [
    "import psycopg2\n",
    "from psycopg2 import Error\n",
    "\n",
    "try:\n",
    "    connection = psycopg2.connect(user = 'postgres',\n",
    "                                 password = 'root',\n",
    "                                 host = 'localhost',\n",
    "                                 port = '5432',\n",
    "                                 database = 'nyc')\n",
    "    \n",
    "    cursor = connection.cursor()\n",
    "    postgreSQL_select_Query = '''select * from graph'''\n",
    "    \n",
    "    cursor.execute(postgreSQL_select_Query)\n",
    "    mobile_records = cursor.fetchall()\n",
    "    \n",
    "    for row in records:\n",
    "        print(\"id = \", row[0], ),\n",
    "        print(\"cost = \", row[1], ),\n",
    "        print(\"road = \", row[2], ),\n",
    "        print(\"Y1 = \", row[3], \"\\n\"),\n",
    "    \n",
    "    except (Exception, psycopg2.Error) as error :\n",
    "    print (\"Error while fetching data from PostgreSQL\", error)\n",
    "\n",
    "finally:\n",
    "    #closing database connection.\n",
    "    if(connection):\n",
    "        cursor.close()\n",
    "        connection.close()\n",
    "        print(\"PostgreSQL connection is closed\")"
   ]
  },
  {
   "cell_type": "code",
   "execution_count": null,
   "metadata": {},
   "outputs": [],
   "source": []
  }
 ],
 "metadata": {
  "kernelspec": {
   "display_name": "Python 3",
   "language": "python",
   "name": "python3"
  },
  "language_info": {
   "codemirror_mode": {
    "name": "ipython",
    "version": 3
   },
   "file_extension": ".py",
   "mimetype": "text/x-python",
   "name": "python",
   "nbconvert_exporter": "python",
   "pygments_lexer": "ipython3",
   "version": "3.7.3"
  }
 },
 "nbformat": 4,
 "nbformat_minor": 2
}
