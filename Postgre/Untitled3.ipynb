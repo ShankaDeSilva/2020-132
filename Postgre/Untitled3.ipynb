{
 "cells": [
  {
   "cell_type": "code",
   "execution_count": 6,
   "metadata": {},
   "outputs": [
    {
     "name": "stdout",
     "output_type": "stream",
     "text": [
      "id =  1\n",
      "cost =  1\n",
      "road =  3\n",
      "Y1 =  37 \n",
      "\n",
      "id =  2\n",
      "cost =  2\n",
      "road =  31\n",
      "Y1 =  39 \n",
      "\n",
      "id =  3\n",
      "cost =  3\n",
      "road =  34\n",
      "Y1 =  41 \n",
      "\n",
      "id =  4\n",
      "cost =  4\n",
      "road =  32\n",
      "Y1 =  43 \n",
      "\n",
      "id =  5\n",
      "cost =  5\n",
      "road =  8\n",
      "Y1 =  45 \n",
      "\n",
      "id =  6\n",
      "cost =  6\n",
      "road =  13\n",
      "Y1 =  -1 \n",
      "\n",
      "PostgreSQL connection is closed\n"
     ]
    }
   ],
   "source": [
    "import psycopg2\n",
    "from psycopg2 import Error\n",
    "var1 = 3\n",
    "var2 = 13\n",
    "\n",
    "try:\n",
    "    connection = psycopg2.connect(user = 'postgres',\n",
    "                                 password = 'root',\n",
    "                                 host = 'localhost',\n",
    "                                 port = '5432',\n",
    "                                 database = 'nyc')\n",
    "    \n",
    "    cursor = connection.cursor()\n",
    "    \n",
    "    cursor.execute('''select * from pgr_dijkstra(\n",
    "\t'SELECT id, source, target, distance as cost FROM graph',\n",
    "\t%s,\n",
    "\t%s,\n",
    "\tdirected := TRUE\n",
    ");''', (var1, var2))\n",
    "    mobile_records = cursor.fetchall()\n",
    "    \n",
    "    for row in mobile_records:\n",
    "        print(\"id = \", row[0], ),\n",
    "        print(\"cost = \", row[1], ),\n",
    "        print(\"road = \", row[2], ),\n",
    "        print(\"Y1 = \", row[3], \"\\n\"),\n",
    "    \n",
    "except (Exception, psycopg2.Error) as error :\n",
    "    print (\"Error while fetching data from PostgreSQL\", error)\n",
    "\n",
    "finally:\n",
    "    #closing database connection.\n",
    "    if(connection):\n",
    "        cursor.close()\n",
    "        connection.close()\n",
    "        print(\"PostgreSQL connection is closed\")"
   ]
  },
  {
   "cell_type": "code",
   "execution_count": null,
   "metadata": {},
   "outputs": [],
   "source": []
  }
 ],
 "metadata": {
  "kernelspec": {
   "display_name": "Python 3",
   "language": "python",
   "name": "python3"
  },
  "language_info": {
   "codemirror_mode": {
    "name": "ipython",
    "version": 3
   },
   "file_extension": ".py",
   "mimetype": "text/x-python",
   "name": "python",
   "nbconvert_exporter": "python",
   "pygments_lexer": "ipython3",
   "version": "3.7.3"
  }
 },
 "nbformat": 4,
 "nbformat_minor": 2
}
