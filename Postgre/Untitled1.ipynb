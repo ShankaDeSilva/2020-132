{
 "cells": [
  {
   "cell_type": "code",
   "execution_count": null,
   "metadata": {},
   "outputs": [
    {
     "name": "stdout",
     "output_type": "stream",
     "text": [
      " * Serving Flask app \"__main__\" (lazy loading)\n",
      " * Environment: production\n",
      "   WARNING: This is a development server. Do not use it in a production deployment.\n",
      "   Use a production WSGI server instead.\n",
      " * Debug mode: off\n"
     ]
    },
    {
     "name": "stderr",
     "output_type": "stream",
     "text": [
      " * Running on http://0.0.0.0:5000/ (Press CTRL+C to quit)\n",
      "172.18.51.17 - - [23/Sep/2020 18:37:18] \"\u001b[37mGET / HTTP/1.1\u001b[0m\" 200 -\n",
      "172.18.51.17 - - [23/Sep/2020 18:37:20] \"\u001b[37mGET / HTTP/1.1\u001b[0m\" 200 -\n",
      "172.18.51.17 - - [23/Sep/2020 19:10:07] \"\u001b[37mGET / HTTP/1.1\u001b[0m\" 200 -\n"
     ]
    }
   ],
   "source": [
    "from flask import Flask, request, jsonify\n",
    "\n",
    "app = Flask(__name__)\n",
    "\n",
    "# root\n",
    "@app.route(\"/\")\n",
    "def index():\n",
    "    \"\"\"\n",
    "    this is a root dir of my server\n",
    "    :return: str\n",
    "    \"\"\"\n",
    "    return \"This is root!!!!\"\n",
    "\n",
    "# GET\n",
    "@app.route('/users/<user>')\n",
    "def hello_user(user):\n",
    "    \"\"\"\n",
    "    this serves as a demo purpose\n",
    "    :param user:\n",
    "    :return: str\n",
    "    \"\"\"\n",
    "    return \"Hello %s!\" % user\n",
    "\n",
    "# POST\n",
    "@app.route('/api/post_some_data', methods=['POST'])\n",
    "def get_text_prediction():\n",
    "    \"\"\"\n",
    "    predicts requested text whether it is ham or spam\n",
    "    :return: json\n",
    "    \"\"\"\n",
    "    json = request.get_json()\n",
    "    print(json)\n",
    "    if len(json['text']) == 0:\n",
    "        return jsonify({'error': 'invalid input'})\n",
    "\n",
    "    return jsonify({'you sent this': json['text']})\n",
    "    \n",
    "# running web app in local machine\n",
    "if __name__ == '__main__':\n",
    "    app.run(host='0.0.0.0', port=5000)"
   ]
  },
  {
   "cell_type": "code",
   "execution_count": 15,
   "metadata": {},
   "outputs": [
    {
     "name": "stdout",
     "output_type": "stream",
     "text": [
      "Error Executing SELECT\n"
     ]
    },
    {
     "ename": "ProgrammingError",
     "evalue": "no results to fetch",
     "output_type": "error",
     "traceback": [
      "\u001b[1;31m---------------------------------------------------------------------------\u001b[0m",
      "\u001b[1;31mProgrammingError\u001b[0m                          Traceback (most recent call last)",
      "\u001b[1;32m<ipython-input-15-82ea58357d26>\u001b[0m in \u001b[0;36m<module>\u001b[1;34m\u001b[0m\n\u001b[0;32m     37\u001b[0m \u001b[1;32mexcept\u001b[0m\u001b[1;33m:\u001b[0m\u001b[1;33m\u001b[0m\u001b[1;33m\u001b[0m\u001b[0m\n\u001b[0;32m     38\u001b[0m     \u001b[0mprint\u001b[0m\u001b[1;33m(\u001b[0m\u001b[1;34m\"Error Executing SELECT\"\u001b[0m\u001b[1;33m)\u001b[0m\u001b[1;33m\u001b[0m\u001b[1;33m\u001b[0m\u001b[0m\n\u001b[1;32m---> 39\u001b[1;33m \u001b[0mresults\u001b[0m \u001b[1;33m=\u001b[0m \u001b[0mcur\u001b[0m\u001b[1;33m.\u001b[0m\u001b[0mfetchall\u001b[0m\u001b[1;33m(\u001b[0m\u001b[1;33m)\u001b[0m\u001b[1;33m\u001b[0m\u001b[1;33m\u001b[0m\u001b[0m\n\u001b[0m\u001b[0;32m     40\u001b[0m \u001b[0mprint\u001b[0m\u001b[1;33m(\u001b[0m\u001b[1;34m\"Rows and Columns\"\u001b[0m\u001b[1;33m)\u001b[0m\u001b[1;33m\u001b[0m\u001b[1;33m\u001b[0m\u001b[0m\n\u001b[0;32m     41\u001b[0m \u001b[1;32mfor\u001b[0m \u001b[0mrow\u001b[0m \u001b[1;32min\u001b[0m \u001b[0mresults\u001b[0m\u001b[1;33m:\u001b[0m\u001b[1;33m\u001b[0m\u001b[1;33m\u001b[0m\u001b[0m\n",
      "\u001b[1;31mProgrammingError\u001b[0m: no results to fetch"
     ]
    }
   ],
   "source": [
    "import psycopg2\n",
    "import psycopg2.extras\n",
    "from psycopg2 import Error\n",
    "\n",
    "from flask import Flask, render_template, request\n",
    "app = Flask(__name__)\n",
    "\n",
    "def connect():\n",
    "    c = psycopg2.connect(user = 'postgres', password = 'root', host = 'localhost', port = '5432', database = 'nyc')\n",
    "    try:\n",
    "        return c\n",
    "    except:\n",
    "        print(\"Can't connect to database\")\n",
    "    \n",
    "\n",
    "conn = connect()\n",
    "cur = conn.cursor()\n",
    "\n",
    "@app.route('/safari', methods=['GET', 'POST'])\n",
    "def createRoute():\n",
    "    conn = connet()\n",
    "    cur = conn.cursor(cursor_factory=psycopg2.extras.DictCursor)\n",
    "    if request.method == 'POST':\n",
    "        try:\n",
    "            cur.execute('''select * from pgr_dijkstra(\n",
    "\t'SELECT id, source, target, distance as cost FROM graph',\n",
    "\t3,\n",
    "\t13,\n",
    "\tdirected := TRUE\n",
    ");''', (3, 13))\n",
    "        except:\n",
    "            print(\"Error executing query\")\n",
    "        \n",
    "\n",
    "try:\n",
    "    cur.execute(createRoute())\n",
    "except:\n",
    "    print(\"Error Executing SELECT\")\n",
    "results = cur.fetchall()\n",
    "print(\"Rows and Columns\")\n",
    "for row in results:\n",
    "    print(\"id =\", row[0], \"\\n\")\n",
    "\n",
    "cur.close()\n",
    "conn.close()"
   ]
  },
  {
   "cell_type": "code",
   "execution_count": null,
   "metadata": {},
   "outputs": [],
   "source": []
  }
 ],
 "metadata": {
  "kernelspec": {
   "display_name": "Python 3",
   "language": "python",
   "name": "python3"
  },
  "language_info": {
   "codemirror_mode": {
    "name": "ipython",
    "version": 3
   },
   "file_extension": ".py",
   "mimetype": "text/x-python",
   "name": "python",
   "nbconvert_exporter": "python",
   "pygments_lexer": "ipython3",
   "version": "3.7.3"
  }
 },
 "nbformat": 4,
 "nbformat_minor": 2
}
